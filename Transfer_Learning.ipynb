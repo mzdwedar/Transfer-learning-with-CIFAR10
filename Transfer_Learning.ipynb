{
  "nbformat": 4,
  "nbformat_minor": 0,
  "metadata": {
    "colab": {
      "name": "Transfer Learning.ipynb",
      "provenance": [],
      "collapsed_sections": [],
      "authorship_tag": "ABX9TyOwNZcvi0opfEfizXu7jOko",
      "include_colab_link": true
    },
    "kernelspec": {
      "name": "python3",
      "display_name": "Python 3"
    },
    "language_info": {
      "name": "python"
    },
    "accelerator": "GPU"
  },
  "cells": [
    {
      "cell_type": "markdown",
      "metadata": {
        "id": "view-in-github",
        "colab_type": "text"
      },
      "source": [
        "<a href=\"https://colab.research.google.com/github/mziad97/Transfer-learning-with-CIFAR10/blob/main/Transfer_Learning.ipynb\" target=\"_parent\"><img src=\"https://colab.research.google.com/assets/colab-badge.svg\" alt=\"Open In Colab\"/></a>"
      ]
    },
    {
      "cell_type": "code",
      "metadata": {
        "id": "cqGzu-03eBaI"
      },
      "source": [
        "import tensorflow as tf\n",
        "from tensorflow.keras import layers"
      ],
      "execution_count": null,
      "outputs": []
    },
    {
      "cell_type": "code",
      "metadata": {
        "colab": {
          "base_uri": "https://localhost:8080/"
        },
        "id": "uliPUWqle7_h",
        "outputId": "24a5b0cd-c07e-48c2-f2ae-cca254fe6f99"
      },
      "source": [
        "(train_images, train_labels), (valid_images, valid_labels) = tf.keras.datasets.cifar10.load_data()"
      ],
      "execution_count": null,
      "outputs": [
        {
          "output_type": "stream",
          "name": "stdout",
          "text": [
            "Downloading data from https://www.cs.toronto.edu/~kriz/cifar-10-python.tar.gz\n",
            "170500096/170498071 [==============================] - 4s 0us/step\n",
            "170508288/170498071 [==============================] - 4s 0us/step\n"
          ]
        }
      ]
    },
    {
      "cell_type": "code",
      "metadata": {
        "id": "kJJd_vFcfaiO"
      },
      "source": [
        "def preprocess_image(input_image):\n",
        "  input_image = input_image.astype('float32')\n",
        "  output_ims = tf.keras.applications.resnet50.preprocess_input(input_image)\n",
        "  return output_ims"
      ],
      "execution_count": null,
      "outputs": []
    },
    {
      "cell_type": "code",
      "metadata": {
        "id": "ZhPN6w_hgPk8"
      },
      "source": [
        "train_x = preprocess_image(train_images)\n",
        "valid_x = preprocess_image(valid_images)"
      ],
      "execution_count": null,
      "outputs": []
    },
    {
      "cell_type": "code",
      "metadata": {
        "colab": {
          "base_uri": "https://localhost:8080/"
        },
        "id": "uQhAD9eSt_oV",
        "outputId": "952a5e44-f35f-42ef-94a6-9cab17900a7c"
      },
      "source": [
        "train_labels[0]"
      ],
      "execution_count": null,
      "outputs": [
        {
          "output_type": "execute_result",
          "data": {
            "text/plain": [
              "array([6], dtype=uint8)"
            ]
          },
          "metadata": {},
          "execution_count": 12
        }
      ]
    },
    {
      "cell_type": "code",
      "metadata": {
        "colab": {
          "base_uri": "https://localhost:8080/"
        },
        "id": "UDL4moCPi06m",
        "outputId": "4e301b02-efed-4eb5-c463-1fb54b8f9209"
      },
      "source": [
        "train_x.shape"
      ],
      "execution_count": null,
      "outputs": [
        {
          "output_type": "execute_result",
          "data": {
            "text/plain": [
              "(50000, 32, 32, 3)"
            ]
          },
          "metadata": {},
          "execution_count": 7
        }
      ]
    },
    {
      "cell_type": "code",
      "metadata": {
        "id": "PZ3mv0IIgdgs"
      },
      "source": [
        "def feature_extractor(inputs):\n",
        "  feature_extractor = tf.keras.applications.resnet.ResNet50(input_shape=(224, 224, 3), \n",
        "                                                   include_top = False, weights='imagenet')(inputs)\n",
        "  return feature_extractor\n",
        "\n",
        "\n",
        "def classifier(inputs):\n",
        "  x = layers.GlobalAveragePooling2D()(inputs)\n",
        "  x = layers.Flatten()(x)\n",
        "  x = layers.Dense(1024, activation='relu')(x)\n",
        "  x = layers.Dense(512, activation='relu')(x)\n",
        "  x = layers.Dense(10, activation='softmax', name='classification')(x)\n",
        "  return x\n",
        "\n",
        "def final_model(inputs):\n",
        "  resize = layers.UpSampling2D(size=(7,7))(inputs)\n",
        "  reset_feature_extractor = feature_extractor(resize)\n",
        "  classification_output = classifier(reset_feature_extractor)\n",
        "\n",
        "  return classification_output"
      ],
      "execution_count": null,
      "outputs": []
    },
    {
      "cell_type": "code",
      "metadata": {
        "id": "BETjhSxukSZh"
      },
      "source": [
        "def compile_model():\n",
        "\n",
        "  inputs = layers.Input(shape=(32,32,3))\n",
        "  classification_output = final_model(inputs)\n",
        "  model = tf.keras.Model(inputs=inputs, outputs=classification_output)\n",
        "\n",
        "  model.compile(optimizer='SGD', loss='sparse_categorical_crossentropy', metrics=['accuracy'])\n",
        "\n",
        "  return model"
      ],
      "execution_count": null,
      "outputs": []
    },
    {
      "cell_type": "code",
      "metadata": {
        "colab": {
          "base_uri": "https://localhost:8080/"
        },
        "id": "QnY5_MGWk6lj",
        "outputId": "5d84b361-ff2a-403d-b06b-6b98cfc776ec"
      },
      "source": [
        "model = compile_model()\n",
        "model.summary()"
      ],
      "execution_count": null,
      "outputs": [
        {
          "output_type": "stream",
          "name": "stdout",
          "text": [
            "Downloading data from https://storage.googleapis.com/tensorflow/keras-applications/resnet/resnet50_weights_tf_dim_ordering_tf_kernels_notop.h5\n",
            "94773248/94765736 [==============================] - 1s 0us/step\n",
            "94781440/94765736 [==============================] - 1s 0us/step\n",
            "Model: \"model\"\n",
            "_________________________________________________________________\n",
            "Layer (type)                 Output Shape              Param #   \n",
            "=================================================================\n",
            "input_1 (InputLayer)         [(None, 32, 32, 3)]       0         \n",
            "_________________________________________________________________\n",
            "up_sampling2d (UpSampling2D) (None, 224, 224, 3)       0         \n",
            "_________________________________________________________________\n",
            "resnet50 (Functional)        (None, 7, 7, 2048)        23587712  \n",
            "_________________________________________________________________\n",
            "global_average_pooling2d (Gl (None, 2048)              0         \n",
            "_________________________________________________________________\n",
            "flatten (Flatten)            (None, 2048)              0         \n",
            "_________________________________________________________________\n",
            "dense (Dense)                (None, 1024)              2098176   \n",
            "_________________________________________________________________\n",
            "dense_1 (Dense)              (None, 512)               524800    \n",
            "_________________________________________________________________\n",
            "classification (Dense)       (None, 10)                5130      \n",
            "=================================================================\n",
            "Total params: 26,215,818\n",
            "Trainable params: 26,162,698\n",
            "Non-trainable params: 53,120\n",
            "_________________________________________________________________\n"
          ]
        }
      ]
    },
    {
      "cell_type": "code",
      "metadata": {
        "id": "KvoLdwV_yBNH"
      },
      "source": [
        "class MyThreshold(tf.keras.callbacks.Callback):\n",
        "\n",
        "  def __init__(self, threshold):\n",
        "    super(MyThreshold, self).__init__()\n",
        "    self.threshold = threshold\n",
        "  \n",
        "  def on_epoch_end(self, epoch, logs=None):\n",
        "    val_accuracy = logs['val_accuracy']\n",
        "    if (val_accuracy >= self.threshold):\n",
        "      self.model.stop_training = True"
      ],
      "execution_count": null,
      "outputs": []
    },
    {
      "cell_type": "code",
      "metadata": {
        "colab": {
          "base_uri": "https://localhost:8080/"
        },
        "id": "tT-HVF7WlA-D",
        "outputId": "2ff5c4a0-bc1d-4e1a-8438-67ddddf18518"
      },
      "source": [
        "EPOCHS = 4\n",
        "myCallback = MyThreshold(threshold=0.9)\n",
        "history = model.fit(train_x, train_labels, epochs=EPOCHS, validation_data = (valid_x, valid_labels), batch_size=64, callbacks=[myCallback])"
      ],
      "execution_count": null,
      "outputs": [
        {
          "output_type": "stream",
          "name": "stdout",
          "text": [
            "Epoch 1/4\n",
            "  6/782 [..............................] - ETA: 15:30 - loss: 0.0069 - accuracy: 0.9974WARNING:tensorflow:Callback method `on_train_batch_end` is slow compared to the batch time (batch time: 0.4431s vs `on_train_batch_end` time: 0.7602s). Check your callbacks.\n",
            "782/782 [==============================] - 1028s 1s/step - loss: 0.0064 - accuracy: 0.9988 - val_loss: 0.1750 - val_accuracy: 0.9531\n"
          ]
        }
      ]
    },
    {
      "cell_type": "code",
      "metadata": {
        "id": "WgJTW_MYmLgp"
      },
      "source": [
        ""
      ],
      "execution_count": null,
      "outputs": []
    }
  ]
}